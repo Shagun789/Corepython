{
 "cells": [
  {
   "cell_type": "markdown",
   "id": "885af79d",
   "metadata": {},
   "source": []
  },
  {
   "cell_type": "code",
   "execution_count": 1,
   "id": "dc452ec3",
   "metadata": {},
   "outputs": [
    {
     "name": "stdout",
     "output_type": "stream",
     "text": [
      "['apple', 'banana', 'cherry', 'mango', 'orange']\n",
      "<class 'list'>\n"
     ]
    }
   ],
   "source": [
    "mylist=[\"apple\",\"banana\",\"cherry\",\"mango\",\"orange\"]\n",
    "print(mylist)\n",
    "print(type(mylist))"
   ]
  },
  {
   "cell_type": "code",
   "execution_count": 4,
   "id": "a1050ab6",
   "metadata": {},
   "outputs": [
    {
     "name": "stdout",
     "output_type": "stream",
     "text": [
      "5\n"
     ]
    }
   ],
   "source": [
    "mylist=[\"apple\",\"banana\",\"cherry\",\"mango\",\"orange\"]\n",
    "print(len(mylist))  #listlength"
   ]
  },
  {
   "cell_type": "code",
   "execution_count": 10,
   "id": "161eac71",
   "metadata": {},
   "outputs": [
    {
     "name": "stdout",
     "output_type": "stream",
     "text": [
      "True\n"
     ]
    }
   ],
   "source": [
    "thislist=[12,34,6,True,False,\"shagun\",456566,231.5]\n",
    "          \n",
    "print(thislist[3])                     #starts indexing from zero from left to right and indexing start from -1 from right to left\n",
    "          "
   ]
  },
  {
   "cell_type": "code",
   "execution_count": 11,
   "id": "6704dcf5",
   "metadata": {},
   "outputs": [
    {
     "name": "stdout",
     "output_type": "stream",
     "text": [
      "shagun\n"
     ]
    }
   ],
   "source": [
    "thislist=[12,34,6,True,False,\"shagun\",456566,231.5]\n",
    "print(thislist[-3])"
   ]
  },
  {
   "cell_type": "code",
   "execution_count": 15,
   "id": "7e10608b",
   "metadata": {},
   "outputs": [
    {
     "name": "stdout",
     "output_type": "stream",
     "text": [
      "[12, 34, 6, True, False]\n"
     ]
    }
   ],
   "source": [
    "thislist=[12,34,6,True,False,\"shagun\",456566,231.5]\n",
    "print(thislist[0:5])      #slicing"
   ]
  },
  {
   "cell_type": "code",
   "execution_count": 17,
   "id": "1aac37dd",
   "metadata": {},
   "outputs": [
    {
     "name": "stdout",
     "output_type": "stream",
     "text": [
      "[12, 6]\n"
     ]
    }
   ],
   "source": [
    "thislist=[12,34,6,True,False,\"shagun\",456566,231.5]\n",
    "print(thislist[0:3:2])"
   ]
  },
  {
   "cell_type": "code",
   "execution_count": 25,
   "id": "eb243dda",
   "metadata": {},
   "outputs": [
    {
     "name": "stdout",
     "output_type": "stream",
     "text": [
      "['apple', 'banana', 'cherry', 'strawberry', 'orange']\n"
     ]
    }
   ],
   "source": [
    "mylist=[\"apple\",\"banana\",\"cherry\",\"mango\",\"orange\"]\n",
    "mylist[3]=\"strawberry\"\n",
    "print(mylist)"
   ]
  },
  {
   "cell_type": "code",
   "execution_count": 24,
   "id": "42a8de90",
   "metadata": {},
   "outputs": [],
   "source": [
    "#change a range of item value"
   ]
  },
  {
   "cell_type": "code",
   "execution_count": 27,
   "id": "f14d51d0",
   "metadata": {},
   "outputs": [
    {
     "name": "stdout",
     "output_type": "stream",
     "text": [
      "[1, 2, 'pen', 'book', 'rejister', 4, 5, 6, 7, 8, 9, 11]\n"
     ]
    }
   ],
   "source": [
    "a=[1,2,3,4,5,6,7,8,9,11]\n",
    "a[2:3]=\"pen\",\"book\",\"rejister\"\n",
    "print(a)"
   ]
  },
  {
   "cell_type": "code",
   "execution_count": 28,
   "id": "20a89d67",
   "metadata": {},
   "outputs": [],
   "source": [
    "#append=add"
   ]
  },
  {
   "cell_type": "code",
   "execution_count": 30,
   "id": "d91a8026",
   "metadata": {},
   "outputs": [
    {
     "name": "stdout",
     "output_type": "stream",
     "text": [
      "[12, 44, 56, 33, 66, 7, 32, 55, -8]\n"
     ]
    }
   ],
   "source": [
    "a=[12,44,56,33,66,7,32,55]\n",
    "a.append(-8)\n",
    "print(a)"
   ]
  },
  {
   "cell_type": "code",
   "execution_count": 32,
   "id": "a34ada61",
   "metadata": {},
   "outputs": [
    {
     "name": "stdout",
     "output_type": "stream",
     "text": [
      "['apple', 'cherry', 'mango', 'orange']\n"
     ]
    }
   ],
   "source": [
    "a=[\"apple\",\"banana\",\"cherry\",\"mango\",\"orange\"]\n",
    "a.remove(\"banana\")\n",
    "print(a)\n",
    "     "
   ]
  },
  {
   "cell_type": "code",
   "execution_count": 33,
   "id": "84437f3d",
   "metadata": {},
   "outputs": [
    {
     "name": "stdout",
     "output_type": "stream",
     "text": [
      "['orange', 'mango', 'cherry', 'banana', 'apple']\n"
     ]
    }
   ],
   "source": [
    "mylist=[\"apple\",\"banana\",\"cherry\",\"mango\",\"orange\"]\n",
    "mylist.reverse()\n",
    "print(mylist)"
   ]
  },
  {
   "cell_type": "code",
   "execution_count": 35,
   "id": "3fb91a8f",
   "metadata": {},
   "outputs": [
    {
     "name": "stdout",
     "output_type": "stream",
     "text": [
      "12\n",
      "the sum of list is 37500\n"
     ]
    }
   ],
   "source": [
    "\n",
    "l=[12,3,2,1,34,23,3,2,223,3432,11323,22442]\n",
    "print(len(l))\n",
    "a=0\n",
    "for i in range(12):\n",
    "    a=a+l[i]\n",
    "    i=i+1\n",
    "print(\"the sum of list is\",a)"
   ]
  },
  {
   "cell_type": "code",
   "execution_count": 38,
   "id": "04cfa23c",
   "metadata": {},
   "outputs": [
    {
     "name": "stdout",
     "output_type": "stream",
     "text": [
      "7\n",
      "the product of all the numbers in the list are 28226880\n"
     ]
    }
   ],
   "source": [
    "l=[12,22,12,33,3,45,2]\n",
    "print(len(l))\n",
    "a=1\n",
    "for i in range(7):\n",
    "    a=a*l[i]\n",
    "    i=i+1\n",
    "print(\"the product of all the numbers in the list are\",a)"
   ]
  },
  {
   "cell_type": "code",
   "execution_count": 1,
   "id": "8596b746",
   "metadata": {},
   "outputs": [],
   "source": [
    "#list are sequence of characters which are seperated by commas\n",
    "#list always represent in square brackets\n",
    "#list are mutable in nature we can do insertion,deletion"
   ]
  },
  {
   "cell_type": "code",
   "execution_count": 1,
   "id": "2f3dea21",
   "metadata": {},
   "outputs": [
    {
     "name": "stdout",
     "output_type": "stream",
     "text": [
      "1080\n"
     ]
    }
   ],
   "source": [
    "l=[12,33,44,22,67,890,12]\n",
    "print(sum(l))"
   ]
  },
  {
   "cell_type": "code",
   "execution_count": 2,
   "id": "fbe1d123",
   "metadata": {},
   "outputs": [
    {
     "name": "stdout",
     "output_type": "stream",
     "text": [
      "890\n"
     ]
    }
   ],
   "source": [
    "print(max(l))"
   ]
  },
  {
   "cell_type": "code",
   "execution_count": 3,
   "id": "87dd8219",
   "metadata": {},
   "outputs": [
    {
     "name": "stdout",
     "output_type": "stream",
     "text": [
      "12\n"
     ]
    }
   ],
   "source": [
    "print(min(l))"
   ]
  },
  {
   "cell_type": "code",
   "execution_count": 8,
   "id": "4d3cf184",
   "metadata": {},
   "outputs": [
    {
     "name": "stdout",
     "output_type": "stream",
     "text": [
      "Reversed list [12, 890, 67, 22, 44, 33, 12]\n"
     ]
    }
   ],
   "source": [
    "l=[12, 33, 44, 22, 67, 890, 12]\n",
    "u=l[::-1]\n",
    "print(\"Reversed list\",u)\n"
   ]
  },
  {
   "cell_type": "code",
   "execution_count": 12,
   "id": "a5c22e7d",
   "metadata": {},
   "outputs": [
    {
     "name": "stdout",
     "output_type": "stream",
     "text": [
      "List with duplicates removed: [1, 2, 3, 4, 5]\n"
     ]
    }
   ],
   "source": [
    "\n",
    "\n",
    "\n",
    "my_list= [1, 2, 2,3,2, 3, 4, 4, 5]\n",
    "result = remove_duplicates(my_list)\n",
    "print(\"List with duplicates removed:\", result)\n"
   ]
  },
  {
   "cell_type": "code",
   "execution_count": 15,
   "id": "4b336d59",
   "metadata": {},
   "outputs": [
    {
     "name": "stdout",
     "output_type": "stream",
     "text": [
      "[2, 3, 4, 5]\n"
     ]
    }
   ],
   "source": [
    "l=[2,4,5,2,4,5,2,3,4,5,2,3,4,5,2,4,5,3,2,2,3,4,3]\n",
    "r=remove_duplicates(l)\n",
    "print(r)"
   ]
  },
  {
   "cell_type": "code",
   "execution_count": 20,
   "id": "1877d4e2",
   "metadata": {},
   "outputs": [
    {
     "name": "stdout",
     "output_type": "stream",
     "text": [
      "enter the number2\n",
      "4\n"
     ]
    }
   ],
   "source": [
    "l=[1,2,3,4,5,5,1,2,3,4,5,4,5,1,3,2,4,5,2]\n",
    "x=int(input(\"enter the number\"))\n",
    "count=0\n",
    "for i in l:\n",
    "    if x==i:\n",
    "        count+=1\n",
    "print(count)\n",
    "    \n"
   ]
  },
  {
   "cell_type": "code",
   "execution_count": 21,
   "id": "9ebb50d6",
   "metadata": {},
   "outputs": [
    {
     "name": "stdout",
     "output_type": "stream",
     "text": [
      "enter a list of numbers seperated by spaces[1,2,3,4,2,3,4,1,3,2,4,5]\n"
     ]
    },
    {
     "ename": "ValueError",
     "evalue": "invalid literal for int() with base 10: '[1,2,3,4,2,3,4,1,3,2,4,5]'",
     "output_type": "error",
     "traceback": [
      "\u001b[1;31m---------------------------------------------------------------------------\u001b[0m",
      "\u001b[1;31mValueError\u001b[0m                                Traceback (most recent call last)",
      "Cell \u001b[1;32mIn[21], line 1\u001b[0m\n\u001b[1;32m----> 1\u001b[0m x\u001b[38;5;241m=\u001b[39m\u001b[38;5;28mint\u001b[39m(\u001b[38;5;28minput\u001b[39m(\u001b[38;5;124m\"\u001b[39m\u001b[38;5;124menter a list of numbers seperated by spaces\u001b[39m\u001b[38;5;124m\"\u001b[39m))\u001b[38;5;241m.\u001b[39msplit()\n\u001b[0;32m      2\u001b[0m unique_elements\u001b[38;5;241m=\u001b[39m\u001b[38;5;241m0\u001b[39m\n\u001b[0;32m      3\u001b[0m \u001b[38;5;28;01mfor\u001b[39;00m element \u001b[38;5;129;01min\u001b[39;00m x:\n",
      "\u001b[1;31mValueError\u001b[0m: invalid literal for int() with base 10: '[1,2,3,4,2,3,4,1,3,2,4,5]'"
     ]
    }
   ],
   "source": [
    "x=int(input(\"enter a list of numbers seperated by spaces\")).split()\n",
    "unique_elements=0\n",
    "for element in x:\n",
    "    if element not in unique_element:\n",
    "        print(unique_element)\n"
   ]
  },
  {
   "cell_type": "code",
   "execution_count": 31,
   "id": "b6aacdd0",
   "metadata": {},
   "outputs": [
    {
     "data": {
      "text/plain": [
       "[45]"
      ]
     },
     "execution_count": 31,
     "metadata": {},
     "output_type": "execute_result"
    }
   ],
   "source": [
    "[1+2+3+4+5+6+7+8+9+0]\n",
    "\n",
    "\n"
   ]
  },
  {
   "cell_type": "code",
   "execution_count": 1,
   "id": "72d1feb6",
   "metadata": {},
   "outputs": [
    {
     "name": "stdout",
     "output_type": "stream",
     "text": [
      "[1, 2, 3, 4, 5]\n",
      "<class 'list'>\n"
     ]
    }
   ],
   "source": [
    "l1=[1,2,3,4,5]\n",
    "print(l1)\n",
    "print(type(l1))"
   ]
  },
  {
   "cell_type": "code",
   "execution_count": 2,
   "id": "78909bd8",
   "metadata": {},
   "outputs": [
    {
     "name": "stdout",
     "output_type": "stream",
     "text": [
      "['a', 'v', 'v', 'b'] <class 'list'>\n"
     ]
    }
   ],
   "source": [
    "l2=[\"a\",\"v\",\"v\",\"b\"]\n",
    "print(l2,type(l2))"
   ]
  },
  {
   "cell_type": "code",
   "execution_count": 3,
   "id": "c2598fab",
   "metadata": {},
   "outputs": [
    {
     "name": "stdout",
     "output_type": "stream",
     "text": [
      "[1, 2, 'a', 'b', 4.5] <class 'list'>\n"
     ]
    }
   ],
   "source": [
    "l3=[1,2,\"a\",\"b\",4.5]\n",
    "print(l3,type(l3))"
   ]
  },
  {
   "cell_type": "markdown",
   "id": "9fc31daf",
   "metadata": {},
   "source": [
    "# list methods"
   ]
  },
  {
   "cell_type": "code",
   "execution_count": 4,
   "id": "a6e84e8f",
   "metadata": {},
   "outputs": [
    {
     "name": "stdout",
     "output_type": "stream",
     "text": [
      "['a', 'quick', 'brown', 'fox', 'jumps', 'over', 'the']\n",
      "7\n"
     ]
    }
   ],
   "source": [
    "l=[\"a\",\"quick\",\"brown\",\"fox\",\"jumps\",\"over\",\"the\"]\n",
    "print(l)\n",
    "print(len(l))"
   ]
  },
  {
   "cell_type": "code",
   "execution_count": 7,
   "id": "75584c98",
   "metadata": {},
   "outputs": [
    {
     "name": "stdout",
     "output_type": "stream",
     "text": [
      "['a', 'quick', 'brown', 'fox', 'jumps', 'over', 'the', 'lazy', 'lazy', 'lazy']\n"
     ]
    }
   ],
   "source": [
    "#append\n",
    "l.append(\"lazy\")          #jitni brr run kroge utni brr print hojayega in append function\n",
    "print(l)             #append means to add something"
   ]
  },
  {
   "cell_type": "code",
   "execution_count": 10,
   "id": "794ab7f9",
   "metadata": {},
   "outputs": [
    {
     "name": "stdout",
     "output_type": "stream",
     "text": [
      "['a', 'quick', 'brown', 'fox', 'jumps', 'over', 'the', 'lazy', 'lazy', 'lazy', 'dog', 'dog', 'dog']\n"
     ]
    }
   ],
   "source": [
    "l.append(\"dog\")\n",
    "print(l)"
   ]
  },
  {
   "cell_type": "code",
   "execution_count": 14,
   "id": "c20b4199",
   "metadata": {},
   "outputs": [
    {
     "name": "stdout",
     "output_type": "stream",
     "text": [
      "['a', 'quick', 'brown', 'fox', 'jumps', 'over', 'the', 'lazy', 'lazy', 'lazy', 'dog', 'dog', 'dog', 'in', 'in', 'in', 'in']\n"
     ]
    }
   ],
   "source": [
    "l.extend([\"in\"])       #extend print character by character\n",
    "print(l)"
   ]
  },
  {
   "cell_type": "code",
   "execution_count": 16,
   "id": "0b61f9bf",
   "metadata": {},
   "outputs": [
    {
     "name": "stdout",
     "output_type": "stream",
     "text": [
      "['a', 'quick', 'brown', 'fox', 'jumps', 'over', 'the', 'lazy', 'lazy', 'lazy', 'dog', 'dog', 'dog', 'in', 'in', 'in', 'in', 'in', 'the', 'in', 'the']\n"
     ]
    }
   ],
   "source": [
    "l.extend([\"in\",\"the\"])\n",
    "print(l)"
   ]
  },
  {
   "cell_type": "code",
   "execution_count": 17,
   "id": "e93a8fad",
   "metadata": {},
   "outputs": [],
   "source": [
    "#insert"
   ]
  },
  {
   "cell_type": "code",
   "execution_count": 18,
   "id": "0a30b290",
   "metadata": {},
   "outputs": [
    {
     "name": "stdout",
     "output_type": "stream",
     "text": [
      "['a', 'quick', 'brown', 'fox', 'jumps', 'over', 'the', 'lazy', 'labra', 'lazy', 'lazy', 'dog', 'dog', 'dog', 'in', 'in', 'in', 'in', 'in', 'the', 'in', 'the']\n"
     ]
    }
   ],
   "source": [
    "l.insert(8,\"labra\")   #insert function is used to insert the string in specific position\n",
    "\n",
    "print(l)"
   ]
  },
  {
   "cell_type": "code",
   "execution_count": 19,
   "id": "2ea68251",
   "metadata": {},
   "outputs": [
    {
     "data": {
      "text/plain": [
       "'labra'"
      ]
     },
     "execution_count": 19,
     "metadata": {},
     "output_type": "execute_result"
    }
   ],
   "source": [
    "l.pop(8)"
   ]
  },
  {
   "cell_type": "code",
   "execution_count": 20,
   "id": "4dc107e4",
   "metadata": {},
   "outputs": [
    {
     "name": "stdout",
     "output_type": "stream",
     "text": [
      "['a', 'quick', 'brown', 'fox', 'jumps', 'over', 'the', 'lazy', 'lazy', 'lazy', 'dog', 'dog', 'dog', 'in', 'in', 'in', 'in', 'in', 'the', 'in', 'the']\n"
     ]
    }
   ],
   "source": [
    "print(l)"
   ]
  },
  {
   "cell_type": "code",
   "execution_count": 21,
   "id": "22ab84b1",
   "metadata": {},
   "outputs": [
    {
     "data": {
      "text/plain": [
       "'the'"
      ]
     },
     "execution_count": 21,
     "metadata": {},
     "output_type": "execute_result"
    }
   ],
   "source": [
    "l.pop()"
   ]
  },
  {
   "cell_type": "code",
   "execution_count": 22,
   "id": "e623bd5c",
   "metadata": {},
   "outputs": [
    {
     "name": "stdout",
     "output_type": "stream",
     "text": [
      "['a', 'quick', 'brown', 'fox', 'jumps', 'over', 'the', 'lazy', 'lazy', 'lazy', 'dog', 'dog', 'dog', 'in', 'in', 'in', 'in', 'in', 'the', 'in']\n"
     ]
    }
   ],
   "source": [
    "print(l)"
   ]
  },
  {
   "cell_type": "code",
   "execution_count": 23,
   "id": "1a5f797f",
   "metadata": {},
   "outputs": [
    {
     "name": "stdout",
     "output_type": "stream",
     "text": [
      "['a', 'quick', 'brown', 'fox', 'jumps', 'over', 'the', 'lazy', 'lazy', 'dog', 'dog', 'dog', 'in', 'in', 'in', 'in', 'in', 'the', 'in']\n"
     ]
    }
   ],
   "source": [
    "l.pop(8)\n",
    "print(l)"
   ]
  },
  {
   "cell_type": "code",
   "execution_count": 27,
   "id": "e0c5ac99",
   "metadata": {},
   "outputs": [
    {
     "name": "stdout",
     "output_type": "stream",
     "text": [
      "[9, 8, 6, 5, 5, 2, 2, 1]\n"
     ]
    }
   ],
   "source": [
    "l=[2,5,1,2,8,6,5,9]\n",
    "print(sorted(l,reverse=True))"
   ]
  },
  {
   "cell_type": "code",
   "execution_count": 28,
   "id": "5cb1bb05",
   "metadata": {},
   "outputs": [
    {
     "name": "stdout",
     "output_type": "stream",
     "text": [
      "[1, 2, 2, 5, 5, 6, 8, 9]\n"
     ]
    }
   ],
   "source": [
    "l=[2,5,1,2,8,6,5,9]\n",
    "print(sorted(l))"
   ]
  },
  {
   "cell_type": "code",
   "execution_count": 29,
   "id": "aa47f6a1",
   "metadata": {},
   "outputs": [
    {
     "name": "stdout",
     "output_type": "stream",
     "text": [
      "9\n"
     ]
    }
   ],
   "source": [
    "print(max(l))"
   ]
  },
  {
   "cell_type": "code",
   "execution_count": 31,
   "id": "82ff1797",
   "metadata": {},
   "outputs": [
    {
     "name": "stdout",
     "output_type": "stream",
     "text": [
      "1\n"
     ]
    }
   ],
   "source": [
    "print(min(l))"
   ]
  },
  {
   "cell_type": "code",
   "execution_count": 32,
   "id": "db6617c1",
   "metadata": {},
   "outputs": [
    {
     "name": "stdout",
     "output_type": "stream",
     "text": [
      "[1, 2, 2, 5, 5, 6, 8, 9]\n"
     ]
    }
   ],
   "source": [
    "l.sort()\n",
    "print(l)"
   ]
  },
  {
   "cell_type": "code",
   "execution_count": 33,
   "id": "0979e826",
   "metadata": {},
   "outputs": [
    {
     "name": "stdout",
     "output_type": "stream",
     "text": [
      "[0, 1, 100]\n"
     ]
    }
   ],
   "source": [
    "l5=[1,100,0]\n",
    "print(sorted(l5))"
   ]
  },
  {
   "cell_type": "code",
   "execution_count": 34,
   "id": "0fc9319f",
   "metadata": {},
   "outputs": [
    {
     "name": "stdout",
     "output_type": "stream",
     "text": [
      "[1, 100, 0]\n"
     ]
    }
   ],
   "source": [
    "print(l5)"
   ]
  },
  {
   "cell_type": "code",
   "execution_count": 35,
   "id": "456b3e02",
   "metadata": {},
   "outputs": [
    {
     "name": "stdout",
     "output_type": "stream",
     "text": [
      "[0, 1, 100]\n"
     ]
    }
   ],
   "source": [
    "l5.sort()\n",
    "print(l5)"
   ]
  },
  {
   "cell_type": "code",
   "execution_count": 38,
   "id": "60070c25",
   "metadata": {},
   "outputs": [
    {
     "ename": "TypeError",
     "evalue": "'builtin_function_or_method' object is not subscriptable",
     "output_type": "error",
     "traceback": [
      "\u001b[1;31m---------------------------------------------------------------------------\u001b[0m",
      "\u001b[1;31mTypeError\u001b[0m                                 Traceback (most recent call last)",
      "Cell \u001b[1;32mIn[38], line 2\u001b[0m\n\u001b[0;32m      1\u001b[0m a\u001b[38;5;241m=\u001b[39m[\u001b[38;5;124m\"\u001b[39m\u001b[38;5;124ma\u001b[39m\u001b[38;5;124m\"\u001b[39m,\u001b[38;5;124m\"\u001b[39m\u001b[38;5;124mquick\u001b[39m\u001b[38;5;124m\"\u001b[39m,\u001b[38;5;124m\"\u001b[39m\u001b[38;5;124mbrown\u001b[39m\u001b[38;5;124m\"\u001b[39m,\u001b[38;5;124m\"\u001b[39m\u001b[38;5;124mfox\u001b[39m\u001b[38;5;124m\"\u001b[39m,\u001b[38;5;124m\"\u001b[39m\u001b[38;5;124mjumps\u001b[39m\u001b[38;5;124m\"\u001b[39m,\u001b[38;5;124m\"\u001b[39m\u001b[38;5;124mover\u001b[39m\u001b[38;5;124m\"\u001b[39m,\u001b[38;5;124m\"\u001b[39m\u001b[38;5;124mthe\u001b[39m\u001b[38;5;124m\"\u001b[39m]\n\u001b[1;32m----> 2\u001b[0m \u001b[38;5;28mprint\u001b[39m[::\u001b[38;5;241m-\u001b[39m\u001b[38;5;241m1\u001b[39m]\n\u001b[0;32m      3\u001b[0m l\u001b[38;5;241m.\u001b[39mreverse()\n",
      "\u001b[1;31mTypeError\u001b[0m: 'builtin_function_or_method' object is not subscriptable"
     ]
    }
   ],
   "source": [
    "a=[\"a\",\"quick\",\"brown\",\"fox\",\"jumps\",\"over\",\"the\"]\n",
    "print[::-1]\n",
    "l.reverse()"
   ]
  },
  {
   "cell_type": "code",
   "execution_count": 39,
   "id": "5aeef242",
   "metadata": {},
   "outputs": [
    {
     "name": "stdout",
     "output_type": "stream",
     "text": [
      "['a', 'xyz', 'c']\n"
     ]
    }
   ],
   "source": [
    "l=[\"a\",\"b\",\"c\"]\n",
    "l[1]=\"xyz\"\n",
    "print(l)"
   ]
  },
  {
   "cell_type": "code",
   "execution_count": 41,
   "id": "5be568b9",
   "metadata": {},
   "outputs": [
    {
     "ename": "TypeError",
     "evalue": "'tuple' object does not support item assignment",
     "output_type": "error",
     "traceback": [
      "\u001b[1;31m---------------------------------------------------------------------------\u001b[0m",
      "\u001b[1;31mTypeError\u001b[0m                                 Traceback (most recent call last)",
      "Cell \u001b[1;32mIn[41], line 2\u001b[0m\n\u001b[0;32m      1\u001b[0m t1\u001b[38;5;241m=\u001b[39m(\u001b[38;5;124m\"\u001b[39m\u001b[38;5;124ma\u001b[39m\u001b[38;5;124m\"\u001b[39m,\u001b[38;5;124m\"\u001b[39m\u001b[38;5;124mb\u001b[39m\u001b[38;5;124m\"\u001b[39m,\u001b[38;5;124m\"\u001b[39m\u001b[38;5;124mc\u001b[39m\u001b[38;5;124m\"\u001b[39m)\n\u001b[1;32m----> 2\u001b[0m t1[\u001b[38;5;241m1\u001b[39m]\u001b[38;5;241m=\u001b[39m\u001b[38;5;124m\"\u001b[39m\u001b[38;5;124mhello\u001b[39m\u001b[38;5;124m\"\u001b[39m       \u001b[38;5;66;03m#tupple is immutable\u001b[39;00m\n\u001b[0;32m      3\u001b[0m \u001b[38;5;28mprint\u001b[39m(t1)\n",
      "\u001b[1;31mTypeError\u001b[0m: 'tuple' object does not support item assignment"
     ]
    }
   ],
   "source": [
    "t1=(\"a\",\"b\",\"c\")\n",
    "t1[1]=\"hello\"       #tupple is immutable\n",
    "print(t1)"
   ]
  },
  {
   "cell_type": "code",
   "execution_count": 42,
   "id": "32f085c9",
   "metadata": {},
   "outputs": [
    {
     "name": "stdout",
     "output_type": "stream",
     "text": [
      "[1, 2, 3, 4, [5, 6], 7, 8]\n",
      "7\n"
     ]
    }
   ],
   "source": [
    "l=[1,2,3,4,[5,6],7,8]\n",
    "print(l)\n",
    "print(len(l))"
   ]
  },
  {
   "cell_type": "code",
   "execution_count": 45,
   "id": "333b720d",
   "metadata": {},
   "outputs": [
    {
     "name": "stdout",
     "output_type": "stream",
     "text": [
      "[1, [2, 3, 4, [[5, 6]]], [7], 8] 4\n"
     ]
    }
   ],
   "source": [
    "l1=[1,[2,3,4,[[5,6]]],[7],8]\n",
    "print(l1,len(l1))"
   ]
  },
  {
   "cell_type": "code",
   "execution_count": 48,
   "id": "799757da",
   "metadata": {},
   "outputs": [
    {
     "name": "stdout",
     "output_type": "stream",
     "text": [
      "1\n"
     ]
    }
   ],
   "source": [
    "l=[[1,2,3,4,[5,6],7,8]]\n",
    "print(len(l))"
   ]
  },
  {
   "cell_type": "code",
   "execution_count": 49,
   "id": "352ee813",
   "metadata": {},
   "outputs": [
    {
     "name": "stdout",
     "output_type": "stream",
     "text": [
      "8\n",
      "quick\n",
      "['quick']\n",
      "['fox', 'jumps']\n",
      "[['fox', 'jumps']]\n",
      "o\n",
      "own\n",
      "['fox', 'jumps']\n",
      "jumps\n",
      "m\n",
      "mps\n",
      "['over', 'the', 'lazy', 'dog']\n"
     ]
    }
   ],
   "source": [
    "l2=[\"a\",\"quick\",\"brown\",[\"fox\",\"jumps\"],\"over\",\"the\",\"lazy\",\"dog\"]\n",
    "print(len(l2))\n",
    "print(l2[1])\n",
    "print(l2[1:2])\n",
    "print(l2[3])\n",
    "print(l2[3:4])\n",
    "\n",
    "print(l2[2][2])\n",
    "print(l2[2][2:])\n",
    "print(l2[3:4][0])\n",
    "print(l2[3:4][0][1])\n",
    "\n",
    "print(l2[3:4][0][1][2])\n",
    "print(l2[3:4][0][1][2:])\n",
    "print(l2[4:])"
   ]
  },
  {
   "cell_type": "code",
   "execution_count": 4,
   "id": "a7cc91c0",
   "metadata": {},
   "outputs": [
    {
     "name": "stdout",
     "output_type": "stream",
     "text": [
      "[[1, 2, 3, [4, 5, 6], 7, 8, 9], 10, [11, 12, 13], 14, 15, 16, 17]\n"
     ]
    }
   ],
   "source": [
    "l1=[[1,2,3,[4,5,6],7,8,9],10,[11,12,13],14,15,16,17]\n",
    "print(l1)\n",
    "    "
   ]
  },
  {
   "cell_type": "code",
   "execution_count": 8,
   "id": "39bd8967",
   "metadata": {},
   "outputs": [
    {
     "name": "stdout",
     "output_type": "stream",
     "text": [
      "[1, 2, 3, [4, 5, 6], 7, 8, 9]\n",
      "[[1, 2, 3, [4, 5, 6], 7, 8, 9]]\n",
      "[14]\n",
      "1\n",
      "[1, 2, 3, [4, 5, 6], 7, 8, 9]\n",
      "[4, 5, 6]\n",
      "9\n",
      "[]\n",
      "13\n",
      "[11, 12, 13]\n",
      "13\n"
     ]
    }
   ],
   "source": [
    "print(l1[0])\n",
    "print(l1[0:1])\n",
    "print(l1[3:4])\n",
    "print(l1[0][0])\n",
    "print(l1[0:1][0])\n",
    "print(l1[0][3])\n",
    "print(l1[0][6])\n",
    "print(l1[0:1][9:])\n",
    "#print(l1[0][9])\n",
    "#print(l1[0:1][9])\n",
    "print(l1[2][2])\n",
    "print(l1[2])\n",
    "print(l1[2][-1])\n",
    "#print(l1[0:1][1])"
   ]
  },
  {
   "cell_type": "code",
   "execution_count": 9,
   "id": "a70b2d62",
   "metadata": {},
   "outputs": [
    {
     "name": "stdout",
     "output_type": "stream",
     "text": [
      "4\n",
      "17\n",
      "8\n",
      "[[1, 2, 3, [4, 5, 6], 7, 8, 9], 10]\n",
      "[[1, 2, 3, [4, 5, 6], 7, 8, 9], 10, [11, 12, 13]]\n"
     ]
    }
   ],
   "source": [
    "print(l1[0][3][0])\n",
    "print(l1[6])\n",
    "print(l1[0][5])\n",
    "print(l1[0:2])\n",
    "print(l1[0:3])"
   ]
  },
  {
   "cell_type": "code",
   "execution_count": 10,
   "id": "8a7a7619",
   "metadata": {},
   "outputs": [
    {
     "name": "stdout",
     "output_type": "stream",
     "text": [
      "12\n",
      "[1, 2, 3, [4, 5, 6], 7]\n",
      "15\n",
      "[3, [4, 5, 6], 7, 8, 9]\n",
      "[3, [4, 5, 6], 7, 8, 9]\n",
      "[[1, 2, 3, [4, 5, 6], 7, 8, 9], 10, [11, 12, 13], 14, 15, 16, 17]\n",
      "[4, 5, 6]\n",
      "[12, 13]\n",
      "[[4, 5, 6], 7, 8, 9]\n"
     ]
    }
   ],
   "source": [
    "print(l1[0:3][2][1])\n",
    "print(l1[0][0:5])\n",
    "print(l1[4])\n",
    "print(l1[0][2:14])\n",
    "print(l1[0][2:14])\n",
    "print(l1[0:1000])\n",
    "print(l1[0][-4])\n",
    "print(l1[-5][-2:])\n",
    "print(l1[-7][-4:])"
   ]
  },
  {
   "cell_type": "code",
   "execution_count": 11,
   "id": "573f0bac",
   "metadata": {},
   "outputs": [
    {
     "name": "stdout",
     "output_type": "stream",
     "text": [
      "2\n",
      "['we know this']\n",
      "[['cats', 'vs', 'dogs'], ['we know this']]\n",
      "vs\n",
      "['vs', 'dogs']\n",
      "['cats', 'vs', 'dogs']\n"
     ]
    }
   ],
   "source": [
    "list=[[\"cats\",\"vs\",\"dogs\"],[\"we know this\"]]\n",
    "print(len(list))\n",
    "print(list[1])\n",
    "print(list[0:10])\n",
    "print(list[0][1])\n",
    "print(list[0][1:3])\n",
    "print(list[0][0:3])"
   ]
  },
  {
   "cell_type": "code",
   "execution_count": 13,
   "id": "0b227ef0",
   "metadata": {},
   "outputs": [
    {
     "name": "stdout",
     "output_type": "stream",
     "text": [
      "[1, 2, 3, 4, 5, 6, 7, 8, 9]\n"
     ]
    }
   ],
   "source": [
    "#[ans loop]\n",
    "a=[i for i in range(1,10)]\n",
    "print(a)"
   ]
  },
  {
   "cell_type": "code",
   "execution_count": 14,
   "id": "e7f4d5eb",
   "metadata": {},
   "outputs": [
    {
     "name": "stdout",
     "output_type": "stream",
     "text": [
      "[2, 4, 6, 8]\n"
     ]
    }
   ],
   "source": [
    "l1=[]\n",
    "for i in range(1,10):\n",
    "    if i%2==0:\n",
    "        l1.append(i)\n",
    "print(l1)"
   ]
  },
  {
   "cell_type": "code",
   "execution_count": 15,
   "id": "95c9971a",
   "metadata": {},
   "outputs": [
    {
     "name": "stdout",
     "output_type": "stream",
     "text": [
      "[2, 4, 6, 8]\n"
     ]
    }
   ],
   "source": [
    "#[ans loop if condition]\n",
    "l2=[i for i in range(1,10) if i%2==0]\n",
    "print(l2)"
   ]
  },
  {
   "cell_type": "code",
   "execution_count": 16,
   "id": "af9d426e",
   "metadata": {},
   "outputs": [
    {
     "name": "stdout",
     "output_type": "stream",
     "text": [
      "[1, 4, 27, 16, 125, 36, 343, 64, 729]\n"
     ]
    }
   ],
   "source": [
    "x=[]\n",
    "for i in range(1,10):\n",
    "    if i%2==0:\n",
    "        x.append(i**2)\n",
    "    else:\n",
    "        x.append(i**3)\n",
    "print(x)"
   ]
  },
  {
   "cell_type": "code",
   "execution_count": 17,
   "id": "1207c4f0",
   "metadata": {},
   "outputs": [
    {
     "name": "stdout",
     "output_type": "stream",
     "text": [
      "[1, 4, 27, 16, 125, 36, 343, 64, 729]\n"
     ]
    }
   ],
   "source": [
    "#[ans if condition else ans loop]\n",
    "d=[i**2 if i%2==0 else i**3 for i in range(1,10)]\n",
    "print(d)"
   ]
  },
  {
   "cell_type": "markdown",
   "id": "e6685c64",
   "metadata": {},
   "source": [
    "# dictonary"
   ]
  },
  {
   "cell_type": "code",
   "execution_count": 3,
   "id": "21db77c3",
   "metadata": {},
   "outputs": [],
   "source": [
    "#dic are my mutable data types that stores the non homogenous elements\n",
    "#dic stores the elements in a key value pair\n",
    "#each key value pairs are seperated by commas\n",
    "#key and value are seperated by colon\n",
    "#dic always represnts in {}\n",
    "#dictonary key should be unique"
   ]
  },
  {
   "cell_type": "code",
   "execution_count": 4,
   "id": "7706fe41",
   "metadata": {},
   "outputs": [
    {
     "name": "stdout",
     "output_type": "stream",
     "text": [
      "{1: 'a', 'xyz': 'hello', 'three': 3}\n",
      "<class 'dict'>\n",
      "3\n"
     ]
    }
   ],
   "source": [
    "d={1:\"a\",\"xyz\":\"hello\",\"three\":3}\n",
    "print(d)\n",
    "print(type(d))\n",
    "print(len(d))"
   ]
  },
  {
   "cell_type": "code",
   "execution_count": 5,
   "id": "cdd58e50",
   "metadata": {},
   "outputs": [
    {
     "name": "stdout",
     "output_type": "stream",
     "text": [
      "3\n",
      "{3: 'three', 'abc': 123, 1: 'one'}\n"
     ]
    }
   ],
   "source": [
    "d1={3:\"sd\",\"abc\":123,3:\"three\",1:\"one\"}\n",
    "print(len(d1))\n",
    "print(d1)"
   ]
  },
  {
   "cell_type": "markdown",
   "id": "814756fc",
   "metadata": {},
   "source": [
    "# dictonary methods"
   ]
  },
  {
   "cell_type": "code",
   "execution_count": 11,
   "id": "958cb728",
   "metadata": {},
   "outputs": [
    {
     "name": "stdout",
     "output_type": "stream",
     "text": [
      "{0: 'a', 1: 'quick', 2: 'brown', 3: 'fox', 4: 'jumps', 'over': 100, 50: 'the'}\n",
      "7\n"
     ]
    }
   ],
   "source": [
    "d={0:\"a\",1:\"quick\",2:\"brown\",3:\"fox\",4:\"jumps\",\"over\":100,50:\"the\"}\n",
    "print(d)\n",
    "print(len(d))"
   ]
  },
  {
   "cell_type": "code",
   "execution_count": 12,
   "id": "d41ab1a1",
   "metadata": {},
   "outputs": [
    {
     "name": "stdout",
     "output_type": "stream",
     "text": [
      "fox\n",
      "100\n"
     ]
    },
    {
     "ename": "KeyError",
     "evalue": "99",
     "output_type": "error",
     "traceback": [
      "\u001b[1;31m---------------------------------------------------------------------------\u001b[0m",
      "\u001b[1;31mKeyError\u001b[0m                                  Traceback (most recent call last)",
      "Cell \u001b[1;32mIn[12], line 3\u001b[0m\n\u001b[0;32m      1\u001b[0m \u001b[38;5;28mprint\u001b[39m(d[\u001b[38;5;241m3\u001b[39m])\n\u001b[0;32m      2\u001b[0m \u001b[38;5;28mprint\u001b[39m(d[\u001b[38;5;124m\"\u001b[39m\u001b[38;5;124mover\u001b[39m\u001b[38;5;124m\"\u001b[39m])\n\u001b[1;32m----> 3\u001b[0m \u001b[38;5;28mprint\u001b[39m(d[\u001b[38;5;241m99\u001b[39m])\n",
      "\u001b[1;31mKeyError\u001b[0m: 99"
     ]
    }
   ],
   "source": [
    "print(d[3])\n",
    "print(d[\"over\"])\n",
    "print(d[99])"
   ]
  },
  {
   "cell_type": "code",
   "execution_count": 15,
   "id": "8525984f",
   "metadata": {},
   "outputs": [
    {
     "name": "stdout",
     "output_type": "stream",
     "text": [
      "dict_keys([0, 1, 2, 3, 4, 'over', 50])\n",
      "dict_values(['a', 'quick', 'brown', 'fox', 'jumps', 100, 'the'])\n",
      "dict_items([(0, 'a'), (1, 'quick'), (2, 'brown'), (3, 'fox'), (4, 'jumps'), ('over', 100), (50, 'the')])\n"
     ]
    }
   ],
   "source": [
    "print(d.keys())\n",
    "print(d.values())\n",
    "print(d.items())"
   ]
  },
  {
   "cell_type": "code",
   "execution_count": 17,
   "id": "1fa66a94",
   "metadata": {},
   "outputs": [
    {
     "name": "stdout",
     "output_type": "stream",
     "text": [
      "{0: 'a', 1: 'quick', 2: 'brown', 3: 'fox', 4: 'jumps', 'over': 100, 50: 'the', 12: 'lazy'}\n"
     ]
    }
   ],
   "source": [
    "#updats=add on things\n",
    "d.update({12:\"lazy\"})\n",
    "print(d)"
   ]
  },
  {
   "cell_type": "code",
   "execution_count": 18,
   "id": "700d0b10",
   "metadata": {},
   "outputs": [
    {
     "name": "stdout",
     "output_type": "stream",
     "text": [
      "{0: 'a', 1: 'quick', 2: 'brown', 3: 'fox', 4: 'jumps', 50: 'the', 12: 'lazy'}\n"
     ]
    }
   ],
   "source": [
    "d.pop(\"over\")\n",
    "print(d)"
   ]
  },
  {
   "cell_type": "code",
   "execution_count": 19,
   "id": "50bf54ce",
   "metadata": {},
   "outputs": [
    {
     "name": "stdout",
     "output_type": "stream",
     "text": [
      "{0: 'a', 1: 'quick', 2: 'brown', 3: 'fox', 4: 'jumps', 50: 'the'}\n"
     ]
    }
   ],
   "source": [
    "d.popitem()\n",
    "print(d)"
   ]
  },
  {
   "cell_type": "code",
   "execution_count": 21,
   "id": "a3b44dc5",
   "metadata": {},
   "outputs": [
    {
     "name": "stdout",
     "output_type": "stream",
     "text": [
      "[50, 4, 3, 2, 1, 0]\n",
      "['the', 'quick', 'jumps', 'fox', 'brown', 'a']\n"
     ]
    }
   ],
   "source": [
    "print(sorted(d.keys(),reverse=True))\n",
    "print(sorted(d.values(),reverse=True))        #descending"
   ]
  },
  {
   "cell_type": "code",
   "execution_count": 22,
   "id": "6daafe1f",
   "metadata": {},
   "outputs": [
    {
     "name": "stdout",
     "output_type": "stream",
     "text": [
      "{}\n"
     ]
    }
   ],
   "source": [
    "d.clear()\n",
    "print(d)"
   ]
  },
  {
   "cell_type": "code",
   "execution_count": 23,
   "id": "17f62a25",
   "metadata": {},
   "outputs": [
    {
     "name": "stdout",
     "output_type": "stream",
     "text": [
      "{1: 'a', 50: 55.5, 2: (1, 2, 3), 10: [1, 'b', 'xyz'], 'course': {'prog': ['python', 'sql'], 'tools': ['tableau', 'excel']}, 9: 'fox'}\n",
      "6\n"
     ]
    }
   ],
   "source": [
    "d[1]=\"a\"\n",
    "d[50]=55.5\n",
    "d[2]=(1,2,3,)\n",
    "d[10]=[1,\"b\",\"xyz\"]\n",
    "d[\"course\"]={\"prog\":[\"python\",\"sql\"],\"tools\":[\"tableau\",\"excel\"]}\n",
    "d.update({9:\"fox\"})\n",
    "print(d)\n",
    "print(len(d))"
   ]
  },
  {
   "cell_type": "code",
   "execution_count": 25,
   "id": "b1e786cc",
   "metadata": {},
   "outputs": [
    {
     "name": "stdout",
     "output_type": "stream",
     "text": [
      "[1, 'b', 'xyz']\n",
      "tableau\n",
      "{'prog': ['python', 'sql'], 'tools': ['tableau', 'excel']}\n"
     ]
    },
    {
     "data": {
      "text/plain": [
       "(9, 'fox')"
      ]
     },
     "execution_count": 25,
     "metadata": {},
     "output_type": "execute_result"
    }
   ],
   "source": [
    "print(d[10])\n",
    "print(d[\"course\"][\"tools\"][0])\n",
    "print(d.pop(\"course\"))\n",
    "d.popitem()"
   ]
  },
  {
   "cell_type": "code",
   "execution_count": 26,
   "id": "f08a85d7",
   "metadata": {},
   "outputs": [
    {
     "name": "stdout",
     "output_type": "stream",
     "text": [
      "{1: 'a', 50: 55.5, 2: (1, 2, 3), 10: [1, 'b', 'xyz']}\n"
     ]
    }
   ],
   "source": [
    "print(d)"
   ]
  },
  {
   "cell_type": "code",
   "execution_count": 27,
   "id": "e177be5b",
   "metadata": {},
   "outputs": [],
   "source": [
    "#dictonary comprehension"
   ]
  },
  {
   "cell_type": "code",
   "execution_count": 28,
   "id": "31367dc8",
   "metadata": {},
   "outputs": [
    {
     "name": "stdout",
     "output_type": "stream",
     "text": [
      "{1: 2, 2: 3, 3: 4, 4: 5, 5: 6, 6: 7, 7: 8, 8: 9, 9: 10}\n"
     ]
    }
   ],
   "source": [
    "d1={i:i+1 for i in range(1,10)}\n",
    "print(d1)"
   ]
  },
  {
   "cell_type": "code",
   "execution_count": 29,
   "id": "408ea2ed",
   "metadata": {},
   "outputs": [
    {
     "name": "stdout",
     "output_type": "stream",
     "text": [
      "{6: 5, 7: 6, 8: 7, 9: 8}\n"
     ]
    }
   ],
   "source": [
    "d2={i:i-1 for i in range(1,10) if i>5}\n",
    "print(d2)"
   ]
  },
  {
   "cell_type": "code",
   "execution_count": 30,
   "id": "aa78affa",
   "metadata": {},
   "outputs": [
    {
     "name": "stdout",
     "output_type": "stream",
     "text": [
      "{1: 'odd', 2: 'even', 3: 'odd', 4: 'even', 5: 'odd', 6: 'even', 7: 'odd', 8: 'even', 9: 'odd'}\n"
     ]
    }
   ],
   "source": [
    "d3={i:\"even\" if i%2==0 else \"odd\" for i in range(1,10)}\n",
    "print(d3)"
   ]
  },
  {
   "cell_type": "code",
   "execution_count": 33,
   "id": "f687b51c",
   "metadata": {},
   "outputs": [
    {
     "name": "stdout",
     "output_type": "stream",
     "text": [
      "{'a': 'aa', 'p': 'pp', 'l': 'll', 'e': 'ee'}\n"
     ]
    }
   ],
   "source": [
    "d4={i:i*2 for i in \"apple\"}\n",
    "print(d4)"
   ]
  },
  {
   "cell_type": "code",
   "execution_count": 35,
   "id": "338e4e5c",
   "metadata": {},
   "outputs": [
    {
     "name": "stdout",
     "output_type": "stream",
     "text": [
      "[1, 2, 3, 4]\n"
     ]
    }
   ],
   "source": [
    "L=[1,2,3,1,2,3,4]\n",
    "l=[]\n",
    "for i in L:\n",
    "    if i not in l:\n",
    "        l.append(i)\n",
    "print(l)"
   ]
  },
  {
   "cell_type": "code",
   "execution_count": 36,
   "id": "2d88262d",
   "metadata": {},
   "outputs": [
    {
     "name": "stdout",
     "output_type": "stream",
     "text": [
      "[4]\n"
     ]
    }
   ],
   "source": [
    "L=[1,2,3,1,2,3,4]\n",
    "a=[]\n",
    "for i in L:\n",
    "    if L.count(i)==1:\n",
    "        a.append(i)\n",
    "print(a)"
   ]
  },
  {
   "cell_type": "code",
   "execution_count": 37,
   "id": "980dafa8",
   "metadata": {},
   "outputs": [
    {
     "name": "stdout",
     "output_type": "stream",
     "text": [
      "pallindromic\n"
     ]
    }
   ],
   "source": [
    "s=\"level\"\n",
    "if s==s[::-1]:\n",
    "    print(\"pallindromic\")\n",
    "else:\n",
    "    print(\"not pallindrome\")"
   ]
  },
  {
   "cell_type": "code",
   "execution_count": 38,
   "id": "e8a2520c",
   "metadata": {},
   "outputs": [
    {
     "name": "stdout",
     "output_type": "stream",
     "text": [
      "pallindromic\n"
     ]
    }
   ],
   "source": [
    "s=\"nitin\"\n",
    "if s==s[::-1]:\n",
    "    print(\"pallindromic\")\n",
    "else:\n",
    "    print(\"not pallindrome\")"
   ]
  },
  {
   "cell_type": "code",
   "execution_count": null,
   "id": "5c433af9",
   "metadata": {},
   "outputs": [],
   "source": []
  }
 ],
 "metadata": {
  "kernelspec": {
   "display_name": "Python 3 (ipykernel)",
   "language": "python",
   "name": "python3"
  },
  "language_info": {
   "codemirror_mode": {
    "name": "ipython",
    "version": 3
   },
   "file_extension": ".py",
   "mimetype": "text/x-python",
   "name": "python",
   "nbconvert_exporter": "python",
   "pygments_lexer": "ipython3",
   "version": "3.11.4"
  }
 },
 "nbformat": 4,
 "nbformat_minor": 5
}
