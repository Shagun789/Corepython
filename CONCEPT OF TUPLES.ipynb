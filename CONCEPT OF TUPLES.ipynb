{
 "cells": [
  {
   "cell_type": "code",
   "execution_count": 1,
   "id": "fc55a0e0",
   "metadata": {},
   "outputs": [
    {
     "name": "stdout",
     "output_type": "stream",
     "text": [
      "(1, 2, 3, 4) <class 'tuple'>\n"
     ]
    }
   ],
   "source": [
    "t5=1,2,3,4\n",
    "print(t5,type(t5))"
   ]
  },
  {
   "cell_type": "code",
   "execution_count": 2,
   "id": "6c8d379d",
   "metadata": {},
   "outputs": [],
   "source": [
    "#always packed in paranthesis\n",
    "#comma mandatory"
   ]
  },
  {
   "cell_type": "code",
   "execution_count": 3,
   "id": "f64e87aa",
   "metadata": {},
   "outputs": [
    {
     "name": "stdout",
     "output_type": "stream",
     "text": [
      "(1, 2, 3, 4, 5) <class 'tuple'>\n"
     ]
    }
   ],
   "source": [
    "t1=(1,2,3,4,5)\n",
    "print(t1,type(t1))"
   ]
  },
  {
   "cell_type": "code",
   "execution_count": 4,
   "id": "7a303332",
   "metadata": {},
   "outputs": [
    {
     "name": "stdout",
     "output_type": "stream",
     "text": [
      "12 <class 'str'>\n"
     ]
    }
   ],
   "source": [
    "t1=\"12\"\n",
    "print(t1,type(t1))"
   ]
  },
  {
   "cell_type": "code",
   "execution_count": 5,
   "id": "9ee795e7",
   "metadata": {},
   "outputs": [
    {
     "name": "stdout",
     "output_type": "stream",
     "text": [
      "('12',) <class 'tuple'>\n"
     ]
    }
   ],
   "source": [
    "t1=\"12\",\n",
    "print(t1,type(t1))"
   ]
  },
  {
   "cell_type": "code",
   "execution_count": 8,
   "id": "f63abfe6",
   "metadata": {},
   "outputs": [
    {
     "name": "stdout",
     "output_type": "stream",
     "text": [
      "<class 'str'> shagungupta\n",
      "shagunguptashagungupta\n"
     ]
    }
   ],
   "source": [
    "t1=\"shagun\"\n",
    "t2=\"gupta\"\n",
    "full=t1+t2\n",
    "print(type(full),(full))\n",
    "print(full*2)"
   ]
  },
  {
   "cell_type": "code",
   "execution_count": 9,
   "id": "42654863",
   "metadata": {},
   "outputs": [
    {
     "name": "stdout",
     "output_type": "stream",
     "text": [
      "3\n"
     ]
    }
   ],
   "source": [
    "x=\"sha\"\n",
    "print(len(x))"
   ]
  },
  {
   "cell_type": "code",
   "execution_count": 10,
   "id": "62157858",
   "metadata": {},
   "outputs": [
    {
     "name": "stdout",
     "output_type": "stream",
     "text": [
      "3\n"
     ]
    }
   ],
   "source": [
    "x=\"shag\",\"hell\",\"disi\"\n",
    "print(len(x))"
   ]
  },
  {
   "cell_type": "code",
   "execution_count": 11,
   "id": "4a7e2288",
   "metadata": {},
   "outputs": [
    {
     "name": "stdout",
     "output_type": "stream",
     "text": [
      "s\n",
      "h\n",
      "a\n",
      "g\n",
      "u\n",
      "n\n"
     ]
    }
   ],
   "source": [
    "x=\"shagun\"\n",
    "for i in x:\n",
    "    print(i)"
   ]
  },
  {
   "cell_type": "code",
   "execution_count": 18,
   "id": "9e17efde",
   "metadata": {},
   "outputs": [
    {
     "name": "stdout",
     "output_type": "stream",
     "text": [
      "2\n"
     ]
    }
   ],
   "source": [
    "s=\"a\",\"quick\",\"brown\",\"fox\",\"jumps\",\"over\",\"a\",\"lazy\",\"dog\"\n",
    "print(s.index(\"brown\"))"
   ]
  },
  {
   "cell_type": "code",
   "execution_count": 20,
   "id": "65f1a48b",
   "metadata": {},
   "outputs": [
    {
     "name": "stdout",
     "output_type": "stream",
     "text": [
      "2\n",
      "0\n"
     ]
    }
   ],
   "source": [
    "print(s.count(\"a\"))\n",
    "print(s.count(\"k\"))"
   ]
  },
  {
   "cell_type": "code",
   "execution_count": 22,
   "id": "6b410d85",
   "metadata": {},
   "outputs": [
    {
     "name": "stdout",
     "output_type": "stream",
     "text": [
      "[0, 1, 2, 4, 6, 7, 8, 9]\n"
     ]
    }
   ],
   "source": [
    "t=7,4,6,2,9,0,8,1\n",
    "print(sorted(t))          #arrange in ascending order"
   ]
  },
  {
   "cell_type": "code",
   "execution_count": 29,
   "id": "fdc334ce",
   "metadata": {},
   "outputs": [
    {
     "name": "stdout",
     "output_type": "stream",
     "text": [
      "[9, 8, 7, 6, 4, 2, 1, 0]\n",
      "0\n",
      "9\n",
      "37\n"
     ]
    }
   ],
   "source": [
    "print(sorted(t,reverse=True)) \n",
    "#descending\n",
    "print(min(t))\n",
    "print(max(t))\n",
    "print(sum(t))"
   ]
  },
  {
   "cell_type": "code",
   "execution_count": 8,
   "id": "c6381039",
   "metadata": {},
   "outputs": [
    {
     "name": "stdout",
     "output_type": "stream",
     "text": [
      "[' ', '>', 'B', 'L', 'a', 'z']\n",
      "z\n",
      " \n",
      "['z', 'a', 'L', 'B', '>', ' ']\n"
     ]
    }
   ],
   "source": [
    "z=(\"z\",'B',\" \",\">\",\"a\",\"L\")\n",
    "print(sorted(z))\n",
    "print(max(z))\n",
    "print(min(z))\n",
    "print(sorted(z,reverse=True))"
   ]
  },
  {
   "cell_type": "code",
   "execution_count": 9,
   "id": "b86892e2",
   "metadata": {},
   "outputs": [
    {
     "name": "stdout",
     "output_type": "stream",
     "text": [
      "z ... 122\n",
      "B ... 66\n",
      "  ... 32\n",
      "> ... 62\n",
      "a ... 97\n",
      "L ... 76\n"
     ]
    }
   ],
   "source": [
    "for i in z:\n",
    "    print(i,\"...\",ord(i))"
   ]
  },
  {
   "cell_type": "code",
   "execution_count": 10,
   "id": "66956cac",
   "metadata": {},
   "outputs": [
    {
     "data": {
      "text/plain": [
       "57"
      ]
     },
     "execution_count": 10,
     "metadata": {},
     "output_type": "execute_result"
    }
   ],
   "source": [
    "ord(\"9\")"
   ]
  },
  {
   "cell_type": "code",
   "execution_count": 11,
   "id": "8b3fdc13",
   "metadata": {},
   "outputs": [
    {
     "data": {
      "text/plain": [
       "32"
      ]
     },
     "execution_count": 11,
     "metadata": {},
     "output_type": "execute_result"
    }
   ],
   "source": [
    "ord(\" \")"
   ]
  },
  {
   "cell_type": "code",
   "execution_count": 12,
   "id": "0dd311c7",
   "metadata": {},
   "outputs": [
    {
     "data": {
      "text/plain": [
       "83"
      ]
     },
     "execution_count": 12,
     "metadata": {},
     "output_type": "execute_result"
    }
   ],
   "source": [
    "ord(\"S\")"
   ]
  },
  {
   "cell_type": "code",
   "execution_count": 14,
   "id": "02ee583f",
   "metadata": {},
   "outputs": [
    {
     "name": "stdout",
     "output_type": "stream",
     "text": [
      "zB >aL\n"
     ]
    }
   ],
   "source": [
    "print(\"\".join(z))"
   ]
  },
  {
   "cell_type": "code",
   "execution_count": 15,
   "id": "8ebe2aef",
   "metadata": {},
   "outputs": [
    {
     "name": "stdout",
     "output_type": "stream",
     "text": [
      "z B   > a L\n"
     ]
    }
   ],
   "source": [
    "print(\" \".join(z))"
   ]
  },
  {
   "cell_type": "code",
   "execution_count": 16,
   "id": "51622341",
   "metadata": {},
   "outputs": [
    {
     "name": "stdout",
     "output_type": "stream",
     "text": [
      "z,B, ,>,a,L\n"
     ]
    }
   ],
   "source": [
    "print(\",\".join(z))"
   ]
  },
  {
   "cell_type": "code",
   "execution_count": 23,
   "id": "d0816303",
   "metadata": {},
   "outputs": [
    {
     "name": "stdout",
     "output_type": "stream",
     "text": [
      "a\n",
      "b\n",
      "c\n",
      "d\n",
      "j\n",
      "h\n",
      "d\n",
      "b\n",
      "w\n",
      "k\n",
      "d\n",
      "c\n",
      "n\n"
     ]
    }
   ],
   "source": [
    "s = \"abcd j%^^&* hdbwkdcn1244454\"\n",
    "for i in s:\n",
    "    if i.isalpha():\n",
    "        print(i)"
   ]
  },
  {
   "cell_type": "code",
   "execution_count": 33,
   "id": "7d3a03da",
   "metadata": {},
   "outputs": [
    {
     "name": "stdout",
     "output_type": "stream",
     "text": [
      "a\n",
      "b\n",
      "c\n",
      "d\n",
      " \n",
      "j\n",
      "%\n",
      "^\n",
      "^\n",
      "&\n",
      "*\n",
      " \n",
      "h\n",
      "d\n",
      "b\n",
      "w\n",
      "k\n",
      "d\n",
      "c\n",
      "n\n",
      "1\n",
      "2\n",
      "4\n",
      "4\n",
      "4\n",
      "5\n",
      "4\n",
      "20\n"
     ]
    }
   ],
   "source": [
    "s = \"abcd j%^^&* hdbwkdcn1244454\"\n",
    "c=0\n",
    "for i in s:\n",
    "    if i.isalnum():\n",
    "        print(i)\n",
    "        c=c+1\n",
    "    else:\n",
    "        print(i)\n",
    "            \n",
    "    \n",
    "print(c)\n"
   ]
  },
  {
   "cell_type": "code",
   "execution_count": 34,
   "id": "f67fbb39",
   "metadata": {},
   "outputs": [
    {
     "name": "stdout",
     "output_type": "stream",
     "text": [
      "a\n",
      "b\n",
      "c\n",
      "d\n",
      "j\n",
      "h\n",
      "d\n",
      "b\n",
      "w\n",
      "k\n",
      "d\n",
      "c\n",
      "n\n",
      "13 7 7\n"
     ]
    }
   ],
   "source": [
    "s = \"abcd j%^^&* hdbwkdcn1244454\"\n",
    "c=0\n",
    "a=0\n",
    "d=0\n",
    "for i in s:\n",
    "    if i.isalpha():\n",
    "        print(i)\n",
    "        a=a+1\n",
    "    elif i.isdigit():\n",
    "        d=d+1\n",
    "    else:\n",
    "        c=c+1\n",
    "print(a,d,c)\n",
    "    "
   ]
  },
  {
   "cell_type": "code",
   "execution_count": 38,
   "id": "abb2f8ea",
   "metadata": {},
   "outputs": [
    {
     "name": "stdout",
     "output_type": "stream",
     "text": [
      "b\n"
     ]
    }
   ],
   "source": [
    "s=\"banana\"\n",
    "for i in s:\n",
    "    if s.count(i)==1:\n",
    "        print(i)"
   ]
  },
  {
   "cell_type": "code",
   "execution_count": 40,
   "id": "81da130f",
   "metadata": {},
   "outputs": [
    {
     "name": "stdout",
     "output_type": "stream",
     "text": [
      "dpanshu\n"
     ]
    }
   ],
   "source": [
    "s=\"deepanshu\"\n",
    "z=\"\"\n",
    "for i in s:\n",
    "    if s.count(i)==1:\n",
    "        z=z+i\n",
    "    else:\n",
    "        pass\n",
    "print(z)"
   ]
  },
  {
   "cell_type": "code",
   "execution_count": 42,
   "id": "b66e00f0",
   "metadata": {},
   "outputs": [
    {
     "name": "stdout",
     "output_type": "stream",
     "text": [
      "ban\n"
     ]
    }
   ],
   "source": [
    "s=\"banana\"\n",
    "q=\"\"                   #repeted character will come only once\n",
    "for i in s:\n",
    "    if i not in q:\n",
    "        q=q+i\n",
    "print(q)"
   ]
  },
  {
   "cell_type": "code",
   "execution_count": 47,
   "id": "9b7d57a7",
   "metadata": {},
   "outputs": [
    {
     "name": "stdout",
     "output_type": "stream",
     "text": [
      "aquickbrownfxjmpedvlzyg\n"
     ]
    }
   ],
   "source": [
    "s=\"a quick brown fox jumped over a lazy dog\"\n",
    "q=\"\"\n",
    "for i in s:\n",
    "    if i.isspace():\n",
    "        pass\n",
    "    elif i not in q:\n",
    "        q=q+i\n",
    "print(q)\n"
   ]
  },
  {
   "cell_type": "code",
   "execution_count": 48,
   "id": "9e76f67b",
   "metadata": {},
   "outputs": [
    {
     "name": "stdout",
     "output_type": "stream",
     "text": [
      "aquickbrownfxjmpedvlzyg\n",
      "adhnpsu\n"
     ]
    }
   ],
   "source": [
    "s=\"a quick brown fox jumped over a lazy dog\"\n",
    "q=\"\"\n",
    "for i in s:\n",
    "    if i.isspace():\n",
    "        pass\n",
    "    elif i not in q:\n",
    "        q=q+i\n",
    "print(q)\n",
    "t=sorted(z)\n",
    "print(\"\".join(t))\n"
   ]
  },
  {
   "cell_type": "code",
   "execution_count": null,
   "id": "d12d0d1b",
   "metadata": {},
   "outputs": [],
   "source": []
  }
 ],
 "metadata": {
  "kernelspec": {
   "display_name": "Python 3 (ipykernel)",
   "language": "python",
   "name": "python3"
  },
  "language_info": {
   "codemirror_mode": {
    "name": "ipython",
    "version": 3
   },
   "file_extension": ".py",
   "mimetype": "text/x-python",
   "name": "python",
   "nbconvert_exporter": "python",
   "pygments_lexer": "ipython3",
   "version": "3.11.4"
  }
 },
 "nbformat": 4,
 "nbformat_minor": 5
}
