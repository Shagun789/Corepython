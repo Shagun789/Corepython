{
 "cells": [
  {
   "cell_type": "code",
   "execution_count": 7,
   "id": "b49a145b",
   "metadata": {},
   "outputs": [
    {
     "name": "stdout",
     "output_type": "stream",
     "text": [
      "m\n"
     ]
    }
   ],
   "source": [
    "a=\"are you mad\"\n",
    "print(a[-3])"
   ]
  },
  {
   "cell_type": "code",
   "execution_count": 8,
   "id": "9453f0d1",
   "metadata": {},
   "outputs": [],
   "source": [
    "#slicing of strings"
   ]
  },
  {
   "cell_type": "code",
   "execution_count": 11,
   "id": "3ef92224",
   "metadata": {},
   "outputs": [
    {
     "name": "stdout",
     "output_type": "stream",
     "text": [
      "o are\n"
     ]
    }
   ],
   "source": [
    "a=\"hello are you mad\"\n",
    "print(a[4:9])"
   ]
  },
  {
   "cell_type": "code",
   "execution_count": 14,
   "id": "5e00f68c",
   "metadata": {},
   "outputs": [
    {
     "name": "stdout",
     "output_type": "stream",
     "text": [
      "are you\n"
     ]
    }
   ],
   "source": [
    "b=\"hello are you mad\"\n",
    "print(b[6:13:1])"
   ]
  },
  {
   "cell_type": "code",
   "execution_count": 15,
   "id": "fa714c42",
   "metadata": {},
   "outputs": [
    {
     "name": "stdout",
     "output_type": "stream",
     "text": [
      "dam uoy era olleh\n"
     ]
    }
   ],
   "source": [
    "print(b[::-1])"
   ]
  },
  {
   "cell_type": "code",
   "execution_count": 16,
   "id": "b6e87486",
   "metadata": {},
   "outputs": [
    {
     "name": "stdout",
     "output_type": "stream",
     "text": [
      "HELLO BETA\n"
     ]
    }
   ],
   "source": [
    "a=\"hello beta\"\n",
    "print(a.upper())"
   ]
  },
  {
   "cell_type": "code",
   "execution_count": 17,
   "id": "5be75f9c",
   "metadata": {},
   "outputs": [
    {
     "name": "stdout",
     "output_type": "stream",
     "text": [
      "hello beta\n"
     ]
    }
   ],
   "source": [
    "a=\"hello beta\"\n",
    "print(a.lower())"
   ]
  },
  {
   "cell_type": "code",
   "execution_count": 18,
   "id": "4b1e173d",
   "metadata": {},
   "outputs": [
    {
     "name": "stdout",
     "output_type": "stream",
     "text": [
      "nikal beta\n"
     ]
    }
   ],
   "source": [
    "print(a.replace(\"hello\",\"nikal\"))"
   ]
  },
  {
   "cell_type": "code",
   "execution_count": 5,
   "id": "4b03eabb",
   "metadata": {},
   "outputs": [
    {
     "name": "stdout",
     "output_type": "stream",
     "text": [
      "hello world\n"
     ]
    }
   ],
   "source": [
    "print(a.replace(\"beta\",\"na\"))"
   ]
  },
  {
   "cell_type": "code",
   "execution_count": 20,
   "id": "1e6e0dda",
   "metadata": {},
   "outputs": [
    {
     "name": "stdout",
     "output_type": "stream",
     "text": [
      "hello keta\n"
     ]
    }
   ],
   "source": [
    "print(a.replace(\"b\",\"k\"))"
   ]
  },
  {
   "cell_type": "code",
   "execution_count": 22,
   "id": "ddb75945",
   "metadata": {},
   "outputs": [
    {
     "name": "stdout",
     "output_type": "stream",
     "text": [
      "5\n"
     ]
    }
   ],
   "source": [
    "a=\"shagun is great\"\n",
    "b=a.find(\"n\")\n",
    "print(b)"
   ]
  },
  {
   "cell_type": "code",
   "execution_count": 4,
   "id": "5e9a1e95",
   "metadata": {},
   "outputs": [
    {
     "name": "stdout",
     "output_type": "stream",
     "text": [
      "11\n"
     ]
    }
   ],
   "source": [
    "a=\"hello world\"\n",
    "print(len(a))"
   ]
  },
  {
   "cell_type": "code",
   "execution_count": 6,
   "id": "0562883d",
   "metadata": {},
   "outputs": [
    {
     "name": "stdout",
     "output_type": "stream",
     "text": [
      "she is best\n"
     ]
    }
   ],
   "source": [
    "a=\"shagun is best\"\n",
    "print(a.replace(\"shagun\",\"she\"))"
   ]
  },
  {
   "cell_type": "code",
   "execution_count": 9,
   "id": "033dafb6",
   "metadata": {},
   "outputs": [
    {
     "name": "stdout",
     "output_type": "stream",
     "text": [
      "14\n"
     ]
    }
   ],
   "source": [
    "a=\"shagun is great\"\n",
    "print(a.find(\"t\"))"
   ]
  },
  {
   "cell_type": "code",
   "execution_count": 1,
   "id": "42c5a909",
   "metadata": {},
   "outputs": [],
   "source": [
    "#data types=it tells you about the behaviour of the variable\n",
    "#1=immutable=numeric,string,tuples\n",
    "#2=mutable=list,dict,set"
   ]
  },
  {
   "cell_type": "code",
   "execution_count": 2,
   "id": "af147a79",
   "metadata": {},
   "outputs": [],
   "source": [
    "#string is the sequence of characters that can be written into quotation"
   ]
  },
  {
   "cell_type": "code",
   "execution_count": 3,
   "id": "e9defcbd",
   "metadata": {},
   "outputs": [
    {
     "ename": "SyntaxError",
     "evalue": "unterminated string literal (detected at line 1) (1056922405.py, line 1)",
     "output_type": "error",
     "traceback": [
      "\u001b[1;36m  Cell \u001b[1;32mIn[3], line 1\u001b[1;36m\u001b[0m\n\u001b[1;33m    s3=\"'hello\u001b[0m\n\u001b[1;37m       ^\u001b[0m\n\u001b[1;31mSyntaxError\u001b[0m\u001b[1;31m:\u001b[0m unterminated string literal (detected at line 1)\n"
     ]
    }
   ],
   "source": [
    "s3=\"'hello\n",
    "i      \n",
    "am\n",
    "shagun\"'\n",
    "print(s3,type(s3))\n"
   ]
  },
  {
   "cell_type": "code",
   "execution_count": null,
   "id": "88278901",
   "metadata": {},
   "outputs": [],
   "source": []
  },
  {
   "cell_type": "code",
   "execution_count": 5,
   "id": "fea38927",
   "metadata": {},
   "outputs": [
    {
     "name": "stdout",
     "output_type": "stream",
     "text": [
      "shagun gupta\n",
      "shagun shagun shagun shagun shagun shagun shagun shagun shagun shagun \n"
     ]
    }
   ],
   "source": [
    "first=\"shagun\"\n",
    "last=\"gupta\"\n",
    "full_name=first+\" \"+last\n",
    "print(full_name)\n",
    "print((first+\" \")*10)"
   ]
  },
  {
   "cell_type": "code",
   "execution_count": 9,
   "id": "776402b1",
   "metadata": {},
   "outputs": [
    {
     "name": "stdout",
     "output_type": "stream",
     "text": [
      "my first name is shagun and my last name is gupta\n",
      "my first name is shagun and my last name is gupta\n",
      "my first name is shagun and my last name is gupta\n"
     ]
    }
   ],
   "source": [
    "print(\"my first name is\",first,\"and my last name is\",last)\n",
    "print(f\"my first name is {first} and my last name is {last}\") #f specifier\n",
    "print(\"my first name is {} and my last name is {}\".format(first,last)) #format specifier"
   ]
  },
  {
   "cell_type": "code",
   "execution_count": 8,
   "id": "489e0cb4",
   "metadata": {},
   "outputs": [
    {
     "name": "stdout",
     "output_type": "stream",
     "text": [
      "5\n"
     ]
    }
   ],
   "source": [
    "n=\"hello\"\n",
    "print(len(n))"
   ]
  },
  {
   "cell_type": "code",
   "execution_count": 10,
   "id": "7eec89ef",
   "metadata": {},
   "outputs": [],
   "source": [
    "#indexing"
   ]
  },
  {
   "cell_type": "code",
   "execution_count": 12,
   "id": "83c218b6",
   "metadata": {},
   "outputs": [
    {
     "name": "stdout",
     "output_type": "stream",
     "text": [
      "s\n",
      "g\n",
      "3\n"
     ]
    }
   ],
   "source": [
    "s=\"shagun123\"\n",
    "print(s[0])\n",
    "print(s[3])\n",
    "print(s[-1])"
   ]
  },
  {
   "cell_type": "code",
   "execution_count": 13,
   "id": "81826e79",
   "metadata": {},
   "outputs": [],
   "source": [
    "#slicing"
   ]
  },
  {
   "cell_type": "code",
   "execution_count": 18,
   "id": "be596a3b",
   "metadata": {},
   "outputs": [
    {
     "name": "stdout",
     "output_type": "stream",
     "text": [
      "dee\n",
      " @12\n",
      "@123\n",
      "deepanshu @123\n",
      "\n",
      "\n",
      "12\n",
      "\n",
      "deepanshu @123\n",
      "deepa\n",
      "deepanshu @123\n",
      "\n"
     ]
    }
   ],
   "source": [
    "s=\"deepanshu @123\"\n",
    "print(s[0:3])\n",
    "print(s[-5:-1])\n",
    "print(s[10:14])\n",
    "print(s[0:100])\n",
    "\n",
    "print(s[100:0])\n",
    "print(s[-5:-9])\n",
    "print(s[-3:-1])\n",
    "print(s[-1:-3])\n",
    "print(s[0:])\n",
    "print(s[:5])\n",
    "print(s[:])\n",
    "print(s[0:-14])"
   ]
  },
  {
   "cell_type": "code",
   "execution_count": 5,
   "id": "ad655c38",
   "metadata": {},
   "outputs": [
    {
     "name": "stdout",
     "output_type": "stream",
     "text": [
      "h\n"
     ]
    }
   ],
   "source": [
    "my_string = \"Python\"\n",
    "first_character = my_string[3]\n",
    "print(first_character)"
   ]
  },
  {
   "cell_type": "code",
   "execution_count": 6,
   "id": "d8e82be1",
   "metadata": {},
   "outputs": [
    {
     "name": "stdout",
     "output_type": "stream",
     "text": [
      "P\n",
      "y\n",
      "t\n",
      "h\n",
      "o\n",
      "n\n"
     ]
    }
   ],
   "source": [
    "my_string = \"Python\"\n",
    "for char in my_string:\n",
    "    print(char)"
   ]
  },
  {
   "cell_type": "code",
   "execution_count": 7,
   "id": "f2ae0d8c",
   "metadata": {},
   "outputs": [
    {
     "name": "stdout",
     "output_type": "stream",
     "text": [
      "s\n",
      "h\n",
      "a\n",
      "g\n",
      "u\n",
      "n\n"
     ]
    }
   ],
   "source": [
    "my_string=\"shagun\"\n",
    "for char in my_string:\n",
    "    print(char)"
   ]
  },
  {
   "cell_type": "code",
   "execution_count": 2,
   "id": "95b3130e",
   "metadata": {},
   "outputs": [
    {
     "name": "stdout",
     "output_type": "stream",
     "text": [
      "14\n",
      "s\n",
      "u\n",
      "pan\n",
      " \n",
      "sh\n",
      "\n",
      "\n",
      "u @1\n",
      "anshu @\n",
      "panshu @123\n",
      "panshu @123\n",
      "dee\n",
      "deepanshu @123\n"
     ]
    }
   ],
   "source": [
    "s=\"deepanshu @123\"\n",
    "print(len(s))\n",
    "print(s[6])\n",
    "print(s[-6])\n",
    "\n",
    "print(s[3:6])\n",
    "print(s[-5])\n",
    "print(s[-8:-6])\n",
    "print(s[6:2])\n",
    "print(s[-6:-10])\n",
    "print(s[-6:-2])\n",
    "print(s[4:-3])\n",
    "print(s[3:1000])\n",
    "print(s[3:])\n",
    "print(s[:3])\n",
    "print(s[:])"
   ]
  },
  {
   "cell_type": "code",
   "execution_count": 3,
   "id": "5648a326",
   "metadata": {},
   "outputs": [
    {
     "name": "stdout",
     "output_type": "stream",
     "text": [
      "deasu@2\n",
      "dau2\n",
      "ps \n",
      "deepanshu @123\n",
      "deepanshu @123\n",
      "321@ uhsnapeed\n"
     ]
    }
   ],
   "source": [
    "s=\"deepanshu @123\"\n",
    "print(s[0:100:2])\n",
    "print(s[0:100:4])\n",
    "print(s[3:12:3])\n",
    "print(s[::])\n",
    "print(s[::1])\n",
    "print(s[::-1])"
   ]
  },
  {
   "cell_type": "code",
   "execution_count": 4,
   "id": "54b4e1b2",
   "metadata": {},
   "outputs": [],
   "source": [
    "#string methods"
   ]
  },
  {
   "cell_type": "code",
   "execution_count": 5,
   "id": "c0303421",
   "metadata": {},
   "outputs": [
    {
     "name": "stdout",
     "output_type": "stream",
     "text": [
      "41\n"
     ]
    }
   ],
   "source": [
    "s=\"a quick brown fox jumps over the lazy dog\"\n",
    "print(len(s))"
   ]
  },
  {
   "cell_type": "code",
   "execution_count": 6,
   "id": "097642c1",
   "metadata": {},
   "outputs": [
    {
     "name": "stdout",
     "output_type": "stream",
     "text": [
      "2\n",
      "40\n",
      "10\n",
      "1\n"
     ]
    }
   ],
   "source": [
    "print(s.index(\"q\"))\n",
    "print(s.index(\"g\"))\n",
    "print(s.index(\"o\"))\n",
    "print(s.index(\" \"))"
   ]
  },
  {
   "cell_type": "code",
   "execution_count": 7,
   "id": "84697ac9",
   "metadata": {},
   "outputs": [],
   "source": [
    "#count"
   ]
  },
  {
   "cell_type": "code",
   "execution_count": 8,
   "id": "f97f9c37",
   "metadata": {},
   "outputs": [
    {
     "name": "stdout",
     "output_type": "stream",
     "text": [
      "2\n",
      "4\n",
      "1\n",
      "8\n"
     ]
    }
   ],
   "source": [
    "print(s.count(\"a\"))\n",
    "print(s.count(\"o\"))\n",
    "print(s.count(\"q\"))\n",
    "print(s.count(\" \"))"
   ]
  },
  {
   "cell_type": "code",
   "execution_count": 9,
   "id": "89005f11",
   "metadata": {},
   "outputs": [],
   "source": [
    "#replace"
   ]
  },
  {
   "cell_type": "code",
   "execution_count": 12,
   "id": "5912545f",
   "metadata": {},
   "outputs": [
    {
     "name": "stdout",
     "output_type": "stream",
     "text": [
      "a quick brown cat jumps over the lazy dog\n",
      "a quick brpwn fpx jumps pver the lazy dpg\n"
     ]
    }
   ],
   "source": [
    "print(s.replace(\"fox\",\"cat\"))\n",
    "print(s.replace(\"o\",\"p\"))"
   ]
  },
  {
   "cell_type": "code",
   "execution_count": 19,
   "id": "1f65a56d",
   "metadata": {},
   "outputs": [
    {
     "name": "stdout",
     "output_type": "stream",
     "text": [
      "True\n",
      "False\n",
      "True\n",
      "False\n",
      "True\n",
      "True\n",
      "True\n",
      "False\n"
     ]
    }
   ],
   "source": [
    "s1=\"aman\"\n",
    "s2=\"AMAN\"\n",
    "s3=\"aman123\"\n",
    "s4=\" \"\n",
    "s5=\"123443\"\n",
    "s6=\"aman*&%234\"\n",
    "print(s1.isalpha())\n",
    "print(s3.isalpha())\n",
    "print(s5.isdigit())\n",
    "print(s3.isdigit())\n",
    "print(s4.isspace())\n",
    "print(s3.isalnum())\n",
    "print(s1.isalnum())\n",
    "print(s4.isalnum())"
   ]
  },
  {
   "cell_type": "code",
   "execution_count": 20,
   "id": "5ac1e98d",
   "metadata": {},
   "outputs": [
    {
     "name": "stdout",
     "output_type": "stream",
     "text": [
      "True\n",
      "AMAN\n",
      "False\n",
      "aman\n",
      "Aman\n",
      "Aman verma\n",
      "Aman verma\n",
      "Aman Verma\n",
      "Aman\n",
      "True\n"
     ]
    }
   ],
   "source": [
    "a1=\"aman\"\n",
    "a2=\"AMAN\"\n",
    "a3=\"Aman\"\n",
    "a4=\"aman verma\"\n",
    "print(a2.isupper())\n",
    "print(a1.upper())\n",
    "print(a2.islower())\n",
    "print(a2.lower())\n",
    "print(a1.capitalize())\n",
    "print(a4.capitalize())\n",
    "print(a4.capitalize())\n",
    "print(a4.title())\n",
    "print(a1.title())               \n",
    "print(a3.istitle())"
   ]
  },
  {
   "cell_type": "code",
   "execution_count": 22,
   "id": "e484968e",
   "metadata": {},
   "outputs": [
    {
     "name": "stdout",
     "output_type": "stream",
     "text": [
      "GCarstdgI3CBICEBC\n"
     ]
    }
   ],
   "source": [
    "z=\"gcARSTDGi3cbicebc\"\n",
    "print(z.swapcase())       "
   ]
  },
  {
   "cell_type": "code",
   "execution_count": 23,
   "id": "34675c2b",
   "metadata": {},
   "outputs": [
    {
     "name": "stdout",
     "output_type": "stream",
     "text": [
      "['a', 'quick:brown', 'fox', 'jumps,over,the', 'lazy', 'dog']\n",
      "['a quick:brown fox jumps', 'over', 'the lazy dog']\n",
      "['a quick', 'brown fox jumps,over,the lazy dog']\n"
     ]
    }
   ],
   "source": [
    "s=\"a quick:brown fox jumps,over,the lazy dog\"\n",
    "print(s.split(\" \"))\n",
    "print(s.split(\",\"))\n",
    "print(s.split(\":\"))"
   ]
  },
  {
   "cell_type": "code",
   "execution_count": 24,
   "id": "a366a3cd",
   "metadata": {},
   "outputs": [
    {
     "name": "stdout",
     "output_type": "stream",
     "text": [
      "True\n",
      "False\n",
      " quick:brown fox jumps,over,the lazy dog\n",
      "a quick:brown fox jumps,over,the lazy d\n"
     ]
    }
   ],
   "source": [
    "print(s.startswith(\"a\"))\n",
    "print(s.endswith(\"k\"))\n",
    "print(s.lstrip(\"a\"))\n",
    "print(s.rstrip(\"og\"))         #lstrip=leftstrip    #rstrip=rightstrip\n"
   ]
  },
  {
   "cell_type": "code",
   "execution_count": null,
   "id": "6585c5b1",
   "metadata": {},
   "outputs": [],
   "source": []
  }
 ],
 "metadata": {
  "kernelspec": {
   "display_name": "Python 3 (ipykernel)",
   "language": "python",
   "name": "python3"
  },
  "language_info": {
   "codemirror_mode": {
    "name": "ipython",
    "version": 3
   },
   "file_extension": ".py",
   "mimetype": "text/x-python",
   "name": "python",
   "nbconvert_exporter": "python",
   "pygments_lexer": "ipython3",
   "version": "3.11.4"
  }
 },
 "nbformat": 4,
 "nbformat_minor": 5
}
